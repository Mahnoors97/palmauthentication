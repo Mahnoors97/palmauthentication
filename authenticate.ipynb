{
 "cells": [
  {
   "cell_type": "code",
   "execution_count": null,
   "metadata": {},
   "outputs": [],
   "source": []
  },
  {
   "cell_type": "code",
   "execution_count": null,
   "metadata": {
    "scrolled": true
   },
   "outputs": [],
   "source": [
    "from keras.models import model_from_json\n",
    "import  json\n",
    "from keras.applications.mobilenet import MobileNet, preprocess_input\n",
    "from keras.preprocessing import image\n",
    "from keras.models import Model\n",
    "from keras.models import model_from_json\n",
    "from keras.layers import Input\n",
    "from keras.preprocessing import image\n",
    "import pickle\n",
    "import os\n",
    "import numpy as np\n",
    "\n",
    "dir_path=\"E:/Palmprint/\"\n",
    "\n",
    "with open(dir_path+'conf/conf.json') as f:    \n",
    "    config = json.load(f)\n",
    "\n",
    "# config variables\n",
    "model_name    = config[\"model\"]\n",
    "weights     = config[\"weights\"]\n",
    "include_top   = config[\"include_top\"]\n",
    "train_path    = config[\"train_path\"]\n",
    "features_path   = config[\"features_path\"]\n",
    "labels_path   = config[\"labels_path\"]\n",
    "test_size     = config[\"test_size\"]\n",
    "results     = config[\"results\"]\n",
    "model_path    = config[\"model_path\"]\n",
    "classifier_path = config[\"classifier_path\"]\n",
    "test_path= config[\"test_path\"]\n",
    "image_size = (224, 224)\n",
    "\n",
    "\n",
    "def create_model():\n",
    "   \n",
    "    if model_name == \"mobilenet\":\n",
    "      base_model = MobileNet(include_top=include_top, weights=weights, input_tensor=Input(shape=(224,224,3)), input_shape=(224,224,3))\n",
    "      model = Model(input=base_model.input, output=base_model.get_layer('custom').output)\n",
    "    else:\n",
    "      base_model = None\n",
    "\n",
    "    return model\n",
    "\n",
    "def predict_label(x):\n",
    "    model_new=create_model()\n",
    "    model_new.load_weights(dir_path+model_path+\"0.1.h5\")\n",
    "    classifier = pickle.load(open(classifier_path, 'rb'))\n",
    "    train_labels = os.listdir(train_path)\n",
    "    x= np.expand_dims(x, axis=0)\n",
    "    x= preprocess_input(x)\n",
    "    feature = model_new.predict(x)\n",
    "    flat = feature.flatten()\n",
    "    flat = np.expand_dims(flat, axis=0)\n",
    "    preds = classifier.predict(flat)\n",
    "    prediction \t= train_labels[preds[0]]\n",
    "    return train_labels[preds[0]]\n",
    "\n",
    "\n",
    "from flask import Flask\n",
    "from flask import request\n",
    "\n",
    "app = Flask(__name__)\n",
    "\n",
    "@app.route('/')\n",
    "def index():\n",
    "    \n",
    "    return \"Welcome to Contact Less PALM Authentication\"\n",
    "\n",
    "@app.route('/authenticate')\n",
    "def authenticate():\n",
    "    image_name = request.args.get('image_name')\n",
    "    print(\"Input image name \"+image_name)\n",
    "    path = test_path + \"/\"+image_name\n",
    "    img= image.load_img(path, target_size=image_size)\n",
    "    x = image.img_to_array(img)\n",
    "    \n",
    "    return \"I think it is a \" + predict_label(x)\n",
    "\n",
    "\n",
    "if __name__ == '__main__':\n",
    "    app.run()\n"
   ]
  },
  {
   "cell_type": "code",
   "execution_count": null,
   "metadata": {},
   "outputs": [],
   "source": []
  },
  {
   "cell_type": "code",
   "execution_count": null,
   "metadata": {},
   "outputs": [],
   "source": []
  },
  {
   "cell_type": "code",
   "execution_count": null,
   "metadata": {},
   "outputs": [],
   "source": []
  },
  {
   "cell_type": "markdown",
   "metadata": {},
   "source": []
  },
  {
   "cell_type": "code",
   "execution_count": null,
   "metadata": {},
   "outputs": [],
   "source": []
  },
  {
   "cell_type": "code",
   "execution_count": null,
   "metadata": {},
   "outputs": [],
   "source": []
  },
  {
   "cell_type": "code",
   "execution_count": null,
   "metadata": {},
   "outputs": [],
   "source": []
  }
 ],
 "metadata": {
  "kernelspec": {
   "display_name": "Python 3",
   "language": "python",
   "name": "python3"
  },
  "language_info": {
   "codemirror_mode": {
    "name": "ipython",
    "version": 3
   },
   "file_extension": ".py",
   "mimetype": "text/x-python",
   "name": "python",
   "nbconvert_exporter": "python",
   "pygments_lexer": "ipython3",
   "version": "3.6.8"
  }
 },
 "nbformat": 4,
 "nbformat_minor": 2
}
